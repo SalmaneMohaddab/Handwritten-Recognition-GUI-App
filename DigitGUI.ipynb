{
 "cells": [
  {
   "cell_type": "code",
   "execution_count": 22,
   "metadata": {},
   "outputs": [],
   "source": [
    "#import libraries\n",
    "import os\n",
    "import PIL\n",
    "import cv2\n",
    "import glob\n",
    "import numpy as np\n",
    "from tkinter import *\n",
    "from PIL import Image, ImageDraw, ImageGrab"
   ]
  },
  {
   "cell_type": "code",
   "execution_count": null,
   "metadata": {},
   "outputs": [],
   "source": [
    "!pip install tensorflow"
   ]
  },
  {
   "cell_type": "code",
   "execution_count": 23,
   "metadata": {},
   "outputs": [
    {
     "name": "stdout",
     "output_type": "stream",
     "text": [
      "Model load Successfully, Go for the APP\n"
     ]
    }
   ],
   "source": [
    "#load model\n",
    "from keras.models import load_model\n",
    "\n",
    "model = load_model(r'C:\\Users\\userNameS\\model.h5')\n",
    "print(\"Model load Successfully, Go for the APP\")"
   ]
  },
  {
   "cell_type": "code",
   "execution_count": 19,
   "metadata": {},
   "outputs": [
    {
     "name": "stdout",
     "output_type": "stream",
     "text": [
      "1/1 [==============================] - 0s 31ms/step\n",
      "1/1 [==============================] - 0s 16ms/step\n"
     ]
    }
   ],
   "source": [
    "#create a main window first (named as root).\n",
    "root = Tk()\n",
    "root.resizable(0,0)\n",
    "root.title( \"Handwritten Digit Recognition GUI\")\n",
    "\n",
    "#Initialize few variables\n",
    "lastx, lasty = None, None\n",
    "image_number = 0\n",
    "\n",
    "#create a canvas for drawing\n",
    "cv = Canvas(root, width=640, height=480, bg='white')\n",
    "cv.grid(row=0, column=0, pady=2, sticky=W, columnspan=2)\n",
    "\n",
    "#Tkinter provides a powerful mechanism to let you deal with events yourself.\n",
    "cv.bind('<Button-1>', activate_event)\n",
    "\n",
    "#Add Buttons and Labels\n",
    "btn_save = Button(text=\"Recognize Digit\", command=Recognize_Digit)\n",
    "btn_save.grid(row=2, column=0, pady=1, padx=1)\n",
    "\n",
    "button_clear = Button(text = \"Clear Widget\", command = clear_widget)\n",
    "button_clear.grid(row=2, column=1, pady=1, padx=1)\n",
    "\n",
    "\n",
    "\n",
    "#mainloop() is used when your application is ready to run.\n",
    "root.mainloop()"
   ]
  },
  {
   "cell_type": "markdown",
   "metadata": {},
   "source": []
  },
  {
   "cell_type": "code",
   "execution_count": 24,
   "metadata": {},
   "outputs": [],
   "source": [
    "def clear_widget():\n",
    "    global cv\n",
    "    cv.delete(\"all\")\n",
    "\n",
    "def activate_event(event):\n",
    "    global lastx, lasty\n",
    "    cv.bind('<B1-Motion>', draw_lines)\n",
    "    lastx, lasty = event.x, event.y\n",
    "def draw_lines(event):\n",
    "    global lastx, lasty\n",
    "    x, y = event.x, event.y\n",
    "\n",
    "    # do the canvas drawings\n",
    "    cv.create_line((lastx, lasty, x, y),width=8, fill='black',\n",
    "                capstyle=ROUND, smooth=TRUE, splinesteps=12)\n",
    "    lastx, lasty = x, y\n"
   ]
  },
  {
   "cell_type": "code",
   "execution_count": 25,
   "metadata": {},
   "outputs": [
    {
     "ename": "SyntaxError",
     "evalue": "invalid syntax (2319276109.py, line 11)",
     "output_type": "error",
     "traceback": [
      "\u001b[1;36m  File \u001b[1;32m\"C:\\Users\\EmH\\AppData\\Local\\Temp\\ipykernel_10716\\2319276109.py\"\u001b[1;36m, line \u001b[1;32m11\u001b[0m\n\u001b[1;33m    y=root.w widget.winfo_y()\u001b[0m\n\u001b[1;37m             ^\u001b[0m\n\u001b[1;31mSyntaxError\u001b[0m\u001b[1;31m:\u001b[0m invalid syntax\n"
     ]
    }
   ],
   "source": [
    "def Recognize_Digit():\n",
    "    global image_number\n",
    "    predictions = []\n",
    "    percentage = []\n",
    "    #image_number = 0\n",
    "    filename = f'image _{image_number}.png'\n",
    "    widget=cv\n",
    "\n",
    "    # get the widget coordinates\n",
    "    x= widget.winfo_x()\n",
    "    y= widget.winfo_y()\n",
    "    \n",
    "    x1=x + widget.winfo_width()\n",
    "    y1=y + widget.winfo_height()\n",
    "\n",
    "    #grab the image, crop it according to my requirement and saved it in png format\n",
    "    ImageGrab.grab().crop((x,y,x1,y1)).save(filename)\n",
    "    # read the image in color format\n",
    "    image = cv2.imread(filename, cv2.IMREAD_COLOR)\n",
    "    # convert the image in grayscale\n",
    "    gray = cv2.cvtColor( image, cv2.COLOR_BGR2GRAY)\n",
    "    # applying Otsu thresholding\n",
    "    ret,th = cv2.threshold(gray,0,255,cv2.THRESH_BINARY_INV+cv2.THRESH_OTSU)\n",
    "    # findcontour() function helps in extracting the contours from the image\n",
    "    contours= cv2.findContours(th, cv2.RETR_EXTERNAL, cv2.CHAIN_APPROX_SIMPLE)[0]\n",
    "    \n",
    "    for cnt in contours:\n",
    "        # Get bounding box and extract ROI\n",
    "        x,y,w,h = cv2.boundingRect(cnt)\n",
    "        # Create rectangle\n",
    "        cv2.rectangle(image, (x,y), (x + w, y + h), (255,0,0), 1)\n",
    "        top = int(0.06 * th.shape[0])\n",
    "        bottom = top\n",
    "        left = int(0.07 * th.shape[1])\n",
    "        right = left\n",
    "        th_up = cv2.copyMakeBorder(th, top, bottom, left, right, cv2.BORDER_REPLICATE)\n",
    "        #extract the image ROT\n",
    "        roi= th[y-top:y+h+bottom, x-left:x+w+right]\n",
    "        # resize roi image to 28x28 pixels\n",
    "        img = cv2.resize(roi, (28, 28), interpolation=cv2.INTER_AREA)\n",
    "        #reshaping the image to support our model input\n",
    "        img = img.reshape(1,28,28,1)\n",
    "        #normalizing the image to support our model input\n",
    "        img = img/255.0\n",
    "        #its time to predict the result\n",
    "        pred = model.predict([img])[0]\n",
    "        #numpy.argmax(input array) Returns the indices of the maximum values.\n",
    "        final_pred = np.argmax(pred)\n",
    "        data = str(final_pred) +' '+ str(int(max(pred)*100))+'%'\n",
    "        #cv2.putText() method is used to draw a text string on image.\n",
    "        font = cv2.FONT_HERSHEY_SIMPLEX\n",
    "        fontScale = 0.5\n",
    "        color = (255, 0, 0)\n",
    "        thickness = 1\n",
    "        cv2.putText(image, data, (x,y-5), font, fontScale, color, thickness)\n",
    "\n",
    "    cv2.imshow('image', image)\n",
    "    cv2.waitKey(0)"
   ]
  },
  {
   "cell_type": "code",
   "execution_count": null,
   "metadata": {},
   "outputs": [],
   "source": []
  }
 ],
 "metadata": {
  "kernelspec": {
   "display_name": "Python 3 (ipykernel)",
   "language": "python",
   "name": "python3"
  },
  "language_info": {
   "codemirror_mode": {
    "name": "ipython",
    "version": 3
   },
   "file_extension": ".py",
   "mimetype": "text/x-python",
   "name": "python",
   "nbconvert_exporter": "python",
   "pygments_lexer": "ipython3",
   "version": "3.9.13"
  }
 },
 "nbformat": 4,
 "nbformat_minor": 4
}
